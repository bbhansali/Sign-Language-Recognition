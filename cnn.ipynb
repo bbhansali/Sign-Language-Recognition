{
 "cells": [
  {
   "cell_type": "code",
   "execution_count": 1,
   "metadata": {},
   "outputs": [
    {
     "name": "stderr",
     "output_type": "stream",
     "text": [
      "Using TensorFlow backend.\n"
     ]
    }
   ],
   "source": [
    "from keras.models import Sequential\n",
    "from keras.layers import Convolution2D\n",
    "from keras.layers import MaxPooling2D\n",
    "from keras.layers import Flatten\n",
    "from keras.layers import Dense, Dropout\n",
    "from keras import optimizers"
   ]
  },
  {
   "cell_type": "code",
   "execution_count": 4,
   "metadata": {},
   "outputs": [],
   "source": [
    "classifier = Sequential()\n",
    "\n",
    "# Step 1 - Convolutio Layer \n",
    "classifier.add(Convolution2D(32, (3,  3), input_shape = (64, 64, 3), activation = 'relu'))\n",
    "\n",
    "#step 2 - Pooling\n",
    "classifier.add(MaxPooling2D(pool_size =(2,2)))\n",
    "\n",
    "# Adding second convolution layer\n",
    "classifier.add(Convolution2D(32, (3,  3), activation = 'relu'))\n",
    "classifier.add(MaxPooling2D(pool_size =(2,2)))\n",
    "\n",
    "#Adding 3rd Concolution Layer\n",
    "classifier.add(Convolution2D(64, (3,  3), activation = 'relu'))\n",
    "classifier.add(MaxPooling2D(pool_size =(2,2)))\n",
    "\n",
    "\n",
    "#Step 3 - Flattening\n",
    "classifier.add(Flatten())\n",
    "\n",
    "#Step 4 - Full Connection\n",
    "classifier.add(Dense(1024, activation = 'relu'))\n",
    "classifier.add(Dense(512, activation = 'relu'))\n",
    "classifier.add(Dropout(0.5))\n",
    "classifier.add(Dense(26, activation = 'softmax'))"
   ]
  },
  {
   "cell_type": "code",
   "execution_count": 5,
   "metadata": {},
   "outputs": [],
   "source": [
    "classifier.compile(\n",
    "              optimizer = optimizers.SGD(lr = 0.01),\n",
    "              loss = 'categorical_crossentropy',\n",
    "              metrics = ['accuracy'])"
   ]
  },
  {
   "cell_type": "code",
   "execution_count": 6,
   "metadata": {},
   "outputs": [],
   "source": [
    "from keras.preprocessing.image import ImageDataGenerator\n",
    "train_datagen = ImageDataGenerator(\n",
    "        rescale=1./255,\n",
    "        shear_range=0.2,\n",
    "        zoom_range=0.2,\n",
    "        horizontal_flip=True)\n",
    "\n",
    "test_datagen = ImageDataGenerator(rescale=1./255)"
   ]
  },
  {
   "cell_type": "code",
   "execution_count": 7,
   "metadata": {},
   "outputs": [
    {
     "name": "stdout",
     "output_type": "stream",
     "text": [
      "Found 45500 images belonging to 26 classes.\n"
     ]
    }
   ],
   "source": [
    "training_set = train_datagen.flow_from_directory(\n",
    "        'Dataset/training_set',\n",
    "        target_size=(64, 64),\n",
    "        batch_size=32,\n",
    "        class_mode='categorical')"
   ]
  },
  {
   "cell_type": "code",
   "execution_count": 8,
   "metadata": {},
   "outputs": [
    {
     "name": "stdout",
     "output_type": "stream",
     "text": [
      "Found 6500 images belonging to 26 classes.\n"
     ]
    }
   ],
   "source": [
    "test_set = test_datagen.flow_from_directory(\n",
    "        'Dataset/test_set',\n",
    "        target_size=(64, 64),\n",
    "        batch_size=32,\n",
    "        class_mode='categorical')"
   ]
  },
  {
   "cell_type": "code",
   "execution_count": 9,
   "metadata": {},
   "outputs": [
    {
     "name": "stdout",
     "output_type": "stream",
     "text": [
      "Epoch 1/25\n",
      "1421/1421 [==============================] - 228s 161ms/step - loss: 1.1783 - accuracy: 0.6308 - val_loss: 0.1933 - val_accuracy: 0.9494\n",
      "Epoch 2/25\n",
      "1421/1421 [==============================] - 73s 51ms/step - loss: 0.2424 - accuracy: 0.9156 - val_loss: 0.1379 - val_accuracy: 0.9686\n",
      "Epoch 3/25\n",
      "1421/1421 [==============================] - 79s 56ms/step - loss: 0.1369 - accuracy: 0.9529 - val_loss: 0.0586 - val_accuracy: 0.9831\n",
      "Epoch 4/25\n",
      "1421/1421 [==============================] - 87s 61ms/step - loss: 0.0943 - accuracy: 0.9677 - val_loss: 0.0164 - val_accuracy: 0.9784\n",
      "Epoch 5/25\n",
      "1421/1421 [==============================] - 91s 64ms/step - loss: 0.0713 - accuracy: 0.9754 - val_loss: 0.1078 - val_accuracy: 0.9852\n",
      "Epoch 6/25\n",
      "1421/1421 [==============================] - 90s 63ms/step - loss: 0.0599 - accuracy: 0.9785 - val_loss: 0.0088 - val_accuracy: 0.9872\n",
      "Epoch 7/25\n",
      "1421/1421 [==============================] - 90s 64ms/step - loss: 0.0506 - accuracy: 0.9834 - val_loss: 0.0101 - val_accuracy: 0.9904\n",
      "Epoch 8/25\n",
      "1421/1421 [==============================] - 90s 64ms/step - loss: 0.0394 - accuracy: 0.9866 - val_loss: 0.0417 - val_accuracy: 0.9833\n",
      "Epoch 9/25\n",
      "1421/1421 [==============================] - 90s 64ms/step - loss: 0.0344 - accuracy: 0.9876 - val_loss: 0.0026 - val_accuracy: 0.9876\n",
      "Epoch 10/25\n",
      "1421/1421 [==============================] - 92s 65ms/step - loss: 0.0323 - accuracy: 0.9888 - val_loss: 0.4340 - val_accuracy: 0.9892\n",
      "Epoch 11/25\n",
      "1421/1421 [==============================] - 91s 64ms/step - loss: 0.0289 - accuracy: 0.9906 - val_loss: 9.9274e-04 - val_accuracy: 0.9875\n",
      "Epoch 12/25\n",
      "1421/1421 [==============================] - 91s 64ms/step - loss: 0.0263 - accuracy: 0.9910 - val_loss: 0.0090 - val_accuracy: 0.9869\n",
      "Epoch 13/25\n",
      "1421/1421 [==============================] - 91s 64ms/step - loss: 0.0214 - accuracy: 0.9932 - val_loss: 0.0451 - val_accuracy: 0.9903\n",
      "Epoch 14/25\n",
      "1421/1421 [==============================] - 91s 64ms/step - loss: 0.0204 - accuracy: 0.9932 - val_loss: 0.0101 - val_accuracy: 0.9892\n",
      "Epoch 15/25\n",
      "1421/1421 [==============================] - 90s 63ms/step - loss: 0.0185 - accuracy: 0.9940 - val_loss: 1.6323e-04 - val_accuracy: 0.9915\n",
      "Epoch 16/25\n",
      "1421/1421 [==============================] - 92s 65ms/step - loss: 0.0184 - accuracy: 0.9939 - val_loss: 0.0013 - val_accuracy: 0.9900\n",
      "Epoch 17/25\n",
      "1421/1421 [==============================] - 92s 65ms/step - loss: 0.0178 - accuracy: 0.9936 - val_loss: 0.0653 - val_accuracy: 0.9904\n",
      "Epoch 18/25\n",
      "1421/1421 [==============================] - 91s 64ms/step - loss: 0.0175 - accuracy: 0.9945 - val_loss: 0.0031 - val_accuracy: 0.9896\n",
      "Epoch 19/25\n",
      "1421/1421 [==============================] - 91s 64ms/step - loss: 0.0148 - accuracy: 0.9952 - val_loss: 2.1366e-05 - val_accuracy: 0.9909\n",
      "Epoch 20/25\n",
      "1421/1421 [==============================] - 92s 64ms/step - loss: 0.0137 - accuracy: 0.9956 - val_loss: 0.0342 - val_accuracy: 0.9904\n",
      "Epoch 21/25\n",
      "1421/1421 [==============================] - 92s 64ms/step - loss: 0.0125 - accuracy: 0.9956 - val_loss: 3.0733e-06 - val_accuracy: 0.9909\n",
      "Epoch 22/25\n",
      "1421/1421 [==============================] - 91s 64ms/step - loss: 0.0123 - accuracy: 0.9962 - val_loss: 0.3726 - val_accuracy: 0.9912\n",
      "Epoch 23/25\n",
      "1421/1421 [==============================] - 91s 64ms/step - loss: 0.0108 - accuracy: 0.9962 - val_loss: 2.3008e-04 - val_accuracy: 0.9906\n",
      "Epoch 24/25\n",
      "1421/1421 [==============================] - 91s 64ms/step - loss: 0.0117 - accuracy: 0.9962 - val_loss: 9.4245e-04 - val_accuracy: 0.9912\n",
      "Epoch 25/25\n",
      "1421/1421 [==============================] - 93s 66ms/step - loss: 0.0095 - accuracy: 0.9966 - val_loss: 5.6176e-04 - val_accuracy: 0.9924\n"
     ]
    }
   ],
   "source": [
    "model = classifier.fit_generator(\n",
    "        training_set,\n",
    "        steps_per_epoch=45500//32,\n",
    "        epochs=25,\n",
    "        validation_data = test_set,\n",
    "        validation_steps = 6500//32\n",
    "      )\n"
   ]
  },
  {
   "cell_type": "code",
   "execution_count": 12,
   "metadata": {},
   "outputs": [],
   "source": [
    "import keras"
   ]
  },
  {
   "cell_type": "code",
   "execution_count": 14,
   "metadata": {},
   "outputs": [],
   "source": [
    "classifier.save(\"model1.h\")"
   ]
  },
  {
   "cell_type": "code",
   "execution_count": null,
   "metadata": {},
   "outputs": [],
   "source": []
  }
 ],
 "metadata": {
  "kernelspec": {
   "display_name": "Python 3",
   "language": "python",
   "name": "python3"
  },
  "language_info": {
   "codemirror_mode": {
    "name": "ipython",
    "version": 3
   },
   "file_extension": ".py",
   "mimetype": "text/x-python",
   "name": "python",
   "nbconvert_exporter": "python",
   "pygments_lexer": "ipython3",
   "version": "3.7.6"
  }
 },
 "nbformat": 4,
 "nbformat_minor": 4
}
